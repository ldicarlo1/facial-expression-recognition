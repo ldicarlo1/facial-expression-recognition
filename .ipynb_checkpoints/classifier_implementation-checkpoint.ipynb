{
 "cells": [
  {
   "cell_type": "markdown",
   "id": "resistant-migration",
   "metadata": {},
   "source": [
    "# Classifier Implementation from Scratch : K-Nearest Neighbor"
   ]
  },
  {
   "cell_type": "markdown",
   "id": "quiet-animal",
   "metadata": {},
   "source": [
    "###### This notebook will train the \"Negative\" emotion on User A using a KNN that will be developed from scratch below."
   ]
  },
  {
   "cell_type": "code",
   "execution_count": 30,
   "id": "historic-armstrong",
   "metadata": {},
   "outputs": [],
   "source": [
    "import pandas as pd \n",
    "from sklearn import preprocessing\n",
    "from sklearn.model_selection import train_test_split,GridSearchCV,KFold, cross_val_score\n",
    "from sklearn.metrics import accuracy_score, precision_score,plot_roc_curve, recall_score\n",
    "from math import sqrt\n",
    "import plotly.express as px\n",
    "from collections import Counter\n",
    "import numpy as np"
   ]
  },
  {
   "cell_type": "code",
   "execution_count": 7,
   "id": "medium-exemption",
   "metadata": {},
   "outputs": [],
   "source": [
    "# load in dataset \n",
    "# select emotion\n",
    "emotion = \"negative\" \n",
    "\n",
    "# read in data file\n",
    "df = pd.read_csv(f\"grammatical_facial_expression/a_{emotion}_datapoints.txt\",delimiter = \" \",)\n",
    "df_target = pd.read_csv(f\"grammatical_facial_expression/a_{emotion}_targets.txt\",delimiter = \" \",header=None)\n",
    "\n",
    "# combine both dataframes using the target dataset\n",
    "df['target'] = df_target"
   ]
  },
  {
   "cell_type": "markdown",
   "id": "accessible-kitty",
   "metadata": {},
   "source": [
    "### Train/Test Split"
   ]
  },
  {
   "cell_type": "code",
   "execution_count": 8,
   "id": "alien-tenant",
   "metadata": {},
   "outputs": [],
   "source": [
    "# split train/test and validation\n",
    "X = df.iloc[:,1:-1]\n",
    "y = df.iloc[:,-1]\n",
    "\n",
    "# scale data\n",
    "scaler = preprocessing.MinMaxScaler()\n",
    "X_scaled = scaler.fit_transform(X)"
   ]
  },
  {
   "cell_type": "code",
   "execution_count": 12,
   "id": "administrative-toner",
   "metadata": {},
   "outputs": [],
   "source": [
    "X_train, X_test, y_train, y_test = train_test_split(X_scaled,y,test_size = 0.2, random_state=3)"
   ]
  },
  {
   "cell_type": "markdown",
   "id": "mathematical-stuff",
   "metadata": {},
   "source": [
    "### Develop KNN Classifier"
   ]
  },
  {
   "cell_type": "code",
   "execution_count": 199,
   "id": "working-orientation",
   "metadata": {},
   "outputs": [],
   "source": [
    "class knn:\n",
    "    '''This is the implemented classifier for K-Nearest Neighbor Classification. Default value for k is 3.\n",
    "    '''\n",
    "    def __init__(self, k=3):\n",
    "        self.k = k\n",
    "        \n",
    "    def euclidean_distance(self, row1, row2):\n",
    "        return np.sqrt(np.sum((row1 - row2)**2))\n",
    "    \n",
    "    def fit(self, X, y):\n",
    "        self.X_train = X\n",
    "        self.y_train = y\n",
    "\n",
    "    def predict(self, X):\n",
    "        # loop thru each row of test data and calculate the nearest neighbor\n",
    "        y_pred = []\n",
    "        for x in X:\n",
    "            y_pred.append(self.nearest_neighbor(x))\n",
    "            \n",
    "        return np.array(y_pred)\n",
    "\n",
    "    def nearest_neighbor(self, x):\n",
    "        # use the euclidean distance function above to calculate distances between rows of data\n",
    "        distances = []\n",
    "        for x_train in self.X_train:\n",
    "            distances.append(self.euclidean_distance(x,x_train))\n",
    "        \n",
    "        # sort by minimum distance and return the index\n",
    "        index = np.argsort(distances)[:self.k]\n",
    "        \n",
    "        # np.take uses the index to return the actual label\n",
    "        k_neighbor_labels = np.take(y_train,index)   \n",
    "        \n",
    "        # the Counter function returns the most common label\n",
    "        label = Counter(k_neighbor_labels).most_common(1)\n",
    "        \n",
    "        return label[0][0]"
   ]
  },
  {
   "cell_type": "code",
   "execution_count": 200,
   "id": "lesser-sierra",
   "metadata": {},
   "outputs": [],
   "source": [
    "clf = knn(3)\n",
    "clf.fit(X_train,y_train)\n",
    "pred = clf.predict(X_test)"
   ]
  },
  {
   "cell_type": "code",
   "execution_count": 201,
   "id": "metropolitan-adams",
   "metadata": {},
   "outputs": [
    {
     "data": {
      "text/plain": [
       "0.8577777777777778"
      ]
     },
     "execution_count": 201,
     "metadata": {},
     "output_type": "execute_result"
    }
   ],
   "source": [
    "accuracy_score(pred,y_test)"
   ]
  },
  {
   "cell_type": "code",
   "execution_count": null,
   "id": "sudden-spine",
   "metadata": {},
   "outputs": [],
   "source": []
  },
  {
   "cell_type": "code",
   "execution_count": null,
   "id": "industrial-harmony",
   "metadata": {},
   "outputs": [],
   "source": []
  },
  {
   "cell_type": "code",
   "execution_count": null,
   "id": "official-sheffield",
   "metadata": {},
   "outputs": [],
   "source": []
  }
 ],
 "metadata": {
  "kernelspec": {
   "display_name": "Python 3",
   "language": "python",
   "name": "python3"
  },
  "language_info": {
   "codemirror_mode": {
    "name": "ipython",
    "version": 3
   },
   "file_extension": ".py",
   "mimetype": "text/x-python",
   "name": "python",
   "nbconvert_exporter": "python",
   "pygments_lexer": "ipython3",
   "version": "3.8.6"
  }
 },
 "nbformat": 4,
 "nbformat_minor": 5
}
