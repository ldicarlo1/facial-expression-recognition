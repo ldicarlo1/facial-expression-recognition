{
 "cells": [
  {
   "cell_type": "code",
   "execution_count": 13,
   "id": "exciting-romania",
   "metadata": {},
   "outputs": [],
   "source": [
    "import tensorflow as tf\n",
    "from tensorflow.keras.layers import Dense, Dropout, Activation, Flatten, Conv1D, MaxPooling1D\n",
    "from tensorflow.keras.models import Sequential\n",
    "import pandas as pd \n",
    "import numpy as np \n",
    "from sklearn import preprocessing\n",
    "from sklearn.metrics import accuracy_score,confusion_matrix, precision_score, recall_score\n",
    "from keras.callbacks import EarlyStopping\n",
    "import matplotlib.pyplot as plt\n",
    "from sklearn.preprocessing import OneHotEncoder"
   ]
  },
  {
   "cell_type": "markdown",
   "id": "crazy-syndicate",
   "metadata": {},
   "source": [
    "### Load in dataset and preprocess"
   ]
  },
  {
   "cell_type": "code",
   "execution_count": 14,
   "id": "trying-trader",
   "metadata": {},
   "outputs": [],
   "source": [
    "# load in dataset\n",
    "# select emotion\n",
    "emotion = \"affirmative\" \n",
    "\n",
    "# read in data file\n",
    "df_aff_b = pd.read_csv(f\"grammatical_facial_expression/b_{emotion}_datapoints.txt\",delimiter = \" \",)\n",
    "df_aff_b_target = pd.read_csv(f\"grammatical_facial_expression/b_{emotion}_targets.txt\",delimiter = \" \",header=None)\n",
    "\n",
    "# define one hot encoding\n",
    "encoder = OneHotEncoder(sparse=False)\n",
    "\n",
    "# transform data\n",
    "onehot_b = encoder.fit_transform(y_aff_b)"
   ]
  },
  {
   "cell_type": "code",
   "execution_count": 15,
   "id": "acknowledged-reception",
   "metadata": {},
   "outputs": [],
   "source": [
    "# scaling data from 0 to 1 \n",
    "scaler = preprocessing.StandardScaler()\n",
    "df_aff_b_scaled = pd.DataFrame(scaler.fit_transform(df_aff_b.iloc[:,1:]))\n",
    "\n",
    "# split train/test and validation\n",
    "X_aff_b_scaled = df_aff_b_scaled\n",
    "y_aff_b = df_aff_b_target\n",
    "\n",
    "\n",
    "# 1-d data with holder dimension\n",
    "X_aff_b_scaled_dim = np.expand_dims(X_aff_b_scaled,2)\n",
    "\n",
    "# collect x,y, & z coordinates as separate dataframes\n",
    "xs = X_aff_b_scaled[X_aff_b_scaled.columns[0::3]]\n",
    "ys = X_aff_b_scaled[X_aff_b_scaled.columns[1::3]]\n",
    "zs = X_aff_b_scaled[X_aff_b_scaled.columns[2::3]]\n",
    "\n",
    "\n",
    "# input data SCALED\n",
    "X_aff_b_scaled_cube = np.swapaxes(np.array((xs,ys,zs)),0,1)\n",
    "X_aff_b_scaled_cube = np.swapaxes(X_aff_b_scaled_cube,1,2)\n"
   ]
  },
  {
   "cell_type": "code",
   "execution_count": null,
   "id": "revised-watson",
   "metadata": {},
   "outputs": [],
   "source": []
  },
  {
   "cell_type": "code",
   "execution_count": 16,
   "id": "executive-receiver",
   "metadata": {},
   "outputs": [],
   "source": [
    "# load in dataset\n",
    "# select emotion\n",
    "emotion = \"affirmative\" \n",
    "\n",
    "# read in data file\n",
    "df_aff = pd.read_csv(f\"grammatical_facial_expression/a_{emotion}_datapoints.txt\",delimiter = \" \",)\n",
    "df_aff_target = pd.read_csv(f\"grammatical_facial_expression/a_{emotion}_targets.txt\",delimiter = \" \",header=None)\n",
    "\n",
    "# define one hot encoding\n",
    "encoder = OneHotEncoder(sparse=False)\n",
    "\n",
    "# transform data\n",
    "onehot = encoder.fit_transform(y_aff)"
   ]
  },
  {
   "cell_type": "code",
   "execution_count": 17,
   "id": "instructional-fruit",
   "metadata": {},
   "outputs": [],
   "source": [
    "# scaling data from 0 to 1 \n",
    "scaler = preprocessing.StandardScaler()\n",
    "df_aff_scaled = pd.DataFrame(scaler.fit_transform(df_aff.iloc[:,1:]))\n",
    "\n",
    "# split train/test and validation\n",
    "X_aff_scaled = df_aff_scaled\n",
    "y_aff = df_aff_target\n",
    "\n",
    "\n",
    "# collect x,y, & z coordinates as separate dataframes\n",
    "xs = X_aff_scaled[X_aff_scaled.columns[0::3]]\n",
    "ys = X_aff_scaled[X_aff_scaled.columns[1::3]]\n",
    "zs = X_aff_scaled[X_aff_scaled.columns[2::3]]\n",
    "\n",
    "\n",
    "# input data SCALED\n",
    "X_aff_scaled_cube = np.swapaxes(np.array((xs,ys,zs)),0,1)\n",
    "X_aff_scaled_cube = np.swapaxes(X_aff_scaled_cube,1,2)\n",
    "\n",
    "# 1-d data with holder dimension\n",
    "X_aff_scaled_dim = np.expand_dims(X_aff_scaled,2)\n",
    "\n"
   ]
  },
  {
   "cell_type": "code",
   "execution_count": 28,
   "id": "aggregate-blame",
   "metadata": {},
   "outputs": [],
   "source": [
    "# Define early stopping\n",
    "early_stopping = EarlyStopping(patience=3)"
   ]
  },
  {
   "cell_type": "markdown",
   "id": "colonial-guatemala",
   "metadata": {},
   "source": [
    "### Build CNN Architecture"
   ]
  },
  {
   "cell_type": "code",
   "execution_count": 50,
   "id": "reduced-grade",
   "metadata": {},
   "outputs": [
    {
     "name": "stdout",
     "output_type": "stream",
     "text": [
      "Epoch 1/20\n",
      "34/34 [==============================] - 1s 19ms/step - loss: 0.5072 - accuracy: 0.7565 - val_loss: 0.5347 - val_accuracy: 0.7465\n",
      "Epoch 2/20\n",
      "34/34 [==============================] - 1s 16ms/step - loss: 0.3932 - accuracy: 0.8463 - val_loss: 0.4144 - val_accuracy: 0.7934\n",
      "Epoch 3/20\n",
      "34/34 [==============================] - 1s 14ms/step - loss: 0.3447 - accuracy: 0.8670 - val_loss: 0.4083 - val_accuracy: 0.8028\n",
      "Epoch 4/20\n",
      "34/34 [==============================] - 0s 14ms/step - loss: 0.3086 - accuracy: 0.8999 - val_loss: 0.3890 - val_accuracy: 0.8451\n",
      "Epoch 5/20\n",
      "34/34 [==============================] - 0s 14ms/step - loss: 0.2729 - accuracy: 0.9086 - val_loss: 0.4283 - val_accuracy: 0.8169\n",
      "Epoch 6/20\n",
      "34/34 [==============================] - 0s 14ms/step - loss: 0.2845 - accuracy: 0.9016 - val_loss: 0.3758 - val_accuracy: 0.8592\n",
      "Epoch 7/20\n",
      "34/34 [==============================] - 0s 15ms/step - loss: 0.2472 - accuracy: 0.9206 - val_loss: 0.3622 - val_accuracy: 0.8545\n",
      "Epoch 8/20\n",
      "34/34 [==============================] - 0s 14ms/step - loss: 0.2584 - accuracy: 0.9020 - val_loss: 0.3811 - val_accuracy: 0.8498\n",
      "Epoch 9/20\n",
      "34/34 [==============================] - 1s 15ms/step - loss: 0.2285 - accuracy: 0.9175 - val_loss: 0.3911 - val_accuracy: 0.8732\n",
      "Epoch 10/20\n",
      "34/34 [==============================] - 0s 15ms/step - loss: 0.2259 - accuracy: 0.9243 - val_loss: 0.4073 - val_accuracy: 0.8545\n",
      "INFO:tensorflow:Assets written to: cnn/assets\n"
     ]
    }
   ],
   "source": [
    "model = Sequential()\n",
    "\n",
    "model.add(Conv1D(100, (5), input_shape=(100,3)))\n",
    "model.add(Activation(\"tanh\"))\n",
    "model.add(MaxPooling1D(pool_size=(2)))\n",
    "\n",
    "model.add(Conv1D(30, (5)))\n",
    "model.add(Activation(\"tanh\"))\n",
    "model.add(MaxPooling1D(pool_size=(2)))\n",
    "\n",
    "model.add(Conv1D(10, (5)))\n",
    "model.add(Activation(\"tanh\"))\n",
    "model.add(MaxPooling1D(pool_size=(2)))\n",
    "\n",
    "model.add(Flatten())\n",
    "model.add(Dense(10))\n",
    "\n",
    "model.add(Dense(2))\n",
    "model.add(Activation('softmax'))\n",
    "\n",
    "# compile model\n",
    "model.compile(loss=\"binary_crossentropy\",\n",
    "             optimizer=\"adam\",\n",
    "             metrics=['accuracy'])\n",
    "\n",
    "model_training = model.fit(X_aff_scaled_cube,onehot,epochs=20,batch_size=25,validation_split=0.2, callbacks=[early_stopping])\n",
    "\n",
    "model.save(\"cnn\")"
   ]
  },
  {
   "cell_type": "code",
   "execution_count": 51,
   "id": "later-syria",
   "metadata": {},
   "outputs": [
    {
     "data": {
      "text/plain": [
       "Text(0, 0.5, 'Validation Score')"
      ]
     },
     "execution_count": 51,
     "metadata": {},
     "output_type": "execute_result"
    },
    {
     "data": {
      "image/png": "[encoded data removed]",
      "text/plain": [
       "<Figure size 432x288 with 1 Axes>"
      ]
     },
     "metadata": {
      "needs_background": "light"
     },
     "output_type": "display_data"
    }
   ],
   "source": [
    "# create plot of loss function\n",
    "plt.plot(model_training.history['val_loss'], 'r')\n",
    "plt.xlabel('Epochs')\n",
    "plt.ylabel('Validation Score')"
   ]
  },
  {
   "cell_type": "code",
   "execution_count": 52,
   "id": "superior-heavy",
   "metadata": {},
   "outputs": [
    {
     "name": "stdout",
     "output_type": "stream",
     "text": [
      "Model: \"sequential_8\"\n",
      "_________________________________________________________________\n",
      "Layer (type)                 Output Shape              Param #   \n",
      "=================================================================\n",
      "conv1d_23 (Conv1D)           (None, 94, 100)           2200      \n",
      "_________________________________________________________________\n",
      "activation_31 (Activation)   (None, 94, 100)           0         \n",
      "_________________________________________________________________\n",
      "max_pooling1d_23 (MaxPooling (None, 47, 100)           0         \n",
      "_________________________________________________________________\n",
      "conv1d_24 (Conv1D)           (None, 41, 30)            21030     \n",
      "_________________________________________________________________\n",
      "activation_32 (Activation)   (None, 41, 30)            0         \n",
      "_________________________________________________________________\n",
      "max_pooling1d_24 (MaxPooling (None, 20, 30)            0         \n",
      "_________________________________________________________________\n",
      "conv1d_25 (Conv1D)           (None, 14, 10)            2110      \n",
      "_________________________________________________________________\n",
      "activation_33 (Activation)   (None, 14, 10)            0         \n",
      "_________________________________________________________________\n",
      "max_pooling1d_25 (MaxPooling (None, 7, 10)             0         \n",
      "_________________________________________________________________\n",
      "flatten_8 (Flatten)          (None, 70)                0         \n",
      "_________________________________________________________________\n",
      "dense_16 (Dense)             (None, 10)                710       \n",
      "_________________________________________________________________\n",
      "dense_17 (Dense)             (None, 2)                 22        \n",
      "_________________________________________________________________\n",
      "activation_34 (Activation)   (None, 2)                 0         \n",
      "=================================================================\n",
      "Total params: 26,072\n",
      "Trainable params: 26,072\n",
      "Non-trainable params: 0\n",
      "_________________________________________________________________\n"
     ]
    }
   ],
   "source": [
    "# Create a new model instance\n",
    "new_model = tf.keras.models.load_model('cnn/')\n",
    "new_model.summary()"
   ]
  },
  {
   "cell_type": "code",
   "execution_count": 53,
   "id": "hazardous-honey",
   "metadata": {},
   "outputs": [
    {
     "data": {
      "text/plain": [
       "0.62756052141527"
      ]
     },
     "execution_count": 53,
     "metadata": {},
     "output_type": "execute_result"
    }
   ],
   "source": [
    "y_pred = new_model.predict(X_aff_b_scaled_cube)\n",
    "y_pred = np.round(y_pred)\n",
    "accuracy_score(y_pred, onehot_b)\n",
    "#recall_score(y_aff_b,y_pred)\n"
   ]
  },
  {
   "cell_type": "code",
   "execution_count": null,
   "id": "major-graduate",
   "metadata": {},
   "outputs": [],
   "source": []
  },
  {
   "cell_type": "code",
   "execution_count": null,
   "id": "modern-subsection",
   "metadata": {},
   "outputs": [],
   "source": []
  }
 ],
 "metadata": {
  "kernelspec": {
   "display_name": "Python 3",
   "language": "python",
   "name": "python3"
  },
  "language_info": {
   "codemirror_mode": {
    "name": "ipython",
    "version": 3
   },
   "file_extension": ".py",
   "mimetype": "text/x-python",
   "name": "python",
   "nbconvert_exporter": "python",
   "pygments_lexer": "ipython3",
   "version": "3.8.6"
  }
 },
 "nbformat": 4,
 "nbformat_minor": 5
}
