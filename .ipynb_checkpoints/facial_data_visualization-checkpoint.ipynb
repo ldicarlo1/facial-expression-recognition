{
 "cells": [
  {
   "cell_type": "markdown",
   "id": "ready-intention",
   "metadata": {},
   "source": [
    "### This script can be manipulated by selecting a different emotion to plot facial data from. Only \"true\" values are plotted. Emotions to choose from:\n",
    "\n",
    "affirmative, conditional, doubt_question, emphasis, negative, relative, topics, wh_question, yn question"
   ]
  },
  {
   "cell_type": "code",
   "execution_count": 4,
   "id": "mature-sugar",
   "metadata": {},
   "outputs": [],
   "source": [
    "import pandas as pd\n",
    "import numpy as np \n",
    "import matplotlib.pyplot as plt"
   ]
  },
  {
   "cell_type": "code",
   "execution_count": 170,
   "id": "relevant-architect",
   "metadata": {},
   "outputs": [],
   "source": [
    "# select emotion\n",
    "emotion = \"emphasis\" \n",
    "\n",
    "# read in data file\n",
    "df = pd.read_csv(f\"grammatical_facial_expression/b_{emotion}_datapoints.txt\",delimiter = \" \",)\n",
    "df_target = pd.read_csv(f\"grammatical_facial_expression/b_{emotion}_targets.txt\",delimiter = \" \",)"
   ]
  },
  {
   "cell_type": "code",
   "execution_count": 171,
   "id": "aquatic-tracy",
   "metadata": {},
   "outputs": [],
   "source": [
    "# combine both df's\n",
    "expression = pd.concat([df,df_target],axis=1)\n",
    "\n",
    "# select only TRUE values\n",
    "truth = expression[expression['0']==1]"
   ]
  },
  {
   "cell_type": "code",
   "execution_count": 172,
   "id": "other-armenia",
   "metadata": {},
   "outputs": [],
   "source": [
    "# collect x,y, & z coordinates as separate dataframes\n",
    "xs = truth[truth.columns[1::3]]\n",
    "ys = truth[truth.columns[2::3]]\n",
    "zs = truth[truth.columns[3::3]]\n",
    "\n",
    "# remove target col\n",
    "xs = xs.drop(['0'],axis=1)"
   ]
  },
  {
   "cell_type": "markdown",
   "id": "entertaining-bunch",
   "metadata": {},
   "source": [
    "### Visualize  facial data."
   ]
  },
  {
   "cell_type": "code",
   "execution_count": 173,
   "id": "ecological-compatibility",
   "metadata": {},
   "outputs": [
    {
     "data": {
      "image/png": "[encoded data removed]",
      "text/plain": [
       "<Figure size 432x288 with 1 Axes>"
      ]
     },
     "metadata": {
      "needs_background": "light"
     },
     "output_type": "display_data"
    }
   ],
   "source": [
    "plt.scatter(xs.iloc[0],ys.iloc[0])\n",
    "plt.gca().invert_yaxis()\n",
    "plt.show()"
   ]
  },
  {
   "cell_type": "code",
   "execution_count": null,
   "id": "asian-temple",
   "metadata": {},
   "outputs": [],
   "source": []
  },
  {
   "cell_type": "code",
   "execution_count": null,
   "id": "dated-bunny",
   "metadata": {},
   "outputs": [],
   "source": []
  },
  {
   "cell_type": "code",
   "execution_count": null,
   "id": "accompanied-threshold",
   "metadata": {},
   "outputs": [],
   "source": []
  }
 ],
 "metadata": {
  "kernelspec": {
   "display_name": "Python 3",
   "language": "python",
   "name": "python3"
  },
  "language_info": {
   "codemirror_mode": {
    "name": "ipython",
    "version": 3
   },
   "file_extension": ".py",
   "mimetype": "text/x-python",
   "name": "python",
   "nbconvert_exporter": "python",
   "pygments_lexer": "ipython3",
   "version": "3.8.6"
  }
 },
 "nbformat": 4,
 "nbformat_minor": 5
}
