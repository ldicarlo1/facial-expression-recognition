{
 "cells": [
  {
   "cell_type": "markdown",
   "id": "southwest-static",
   "metadata": {},
   "source": [
    "# GFE Classification: Part B"
   ]
  },
  {
   "cell_type": "markdown",
   "id": "leading-disability",
   "metadata": {},
   "source": [
    "###### Employ this trained classifier on the expressions performed by User B, and determine the accuracy. \n",
    "###### (i) Test on a single facial expression\n",
    "###### (ii) Test on a different facial expression\n",
    "###### (iii) Use of performance measures"
   ]
  },
  {
   "cell_type": "markdown",
   "id": "chicken-fishing",
   "metadata": {},
   "source": [
    "### Part 1: Negative Emotion User B"
   ]
  },
  {
   "cell_type": "code",
   "execution_count": 29,
   "id": "southwest-extension",
   "metadata": {},
   "outputs": [],
   "source": [
    "import pandas as pd\n",
    "import numpy as np\n",
    "from sklearn import preprocessing\n",
    "from sklearn.metrics import accuracy_score, precision_score,plot_roc_curve, recall_score\n",
    "import plotly.express as px\n",
    "import plotly.graph_objects as go\n",
    "import pickle"
   ]
  },
  {
   "cell_type": "code",
   "execution_count": 30,
   "id": "simplified-poster",
   "metadata": {},
   "outputs": [],
   "source": [
    "# select emotion\n",
    "emotion = \"negative\" \n",
    "\n",
    "# read in data file for User B\n",
    "df = pd.read_csv(f\"grammatical_facial_expression/b_{emotion}_datapoints.txt\",delimiter = \" \",)\n",
    "df_target = pd.read_csv(f\"grammatical_facial_expression/b_{emotion}_targets.txt\",delimiter = \" \",)"
   ]
  },
  {
   "cell_type": "code",
   "execution_count": 31,
   "id": "reduced-reform",
   "metadata": {},
   "outputs": [],
   "source": [
    "# combine both dataframes using the target dataset\n",
    "df['target'] = df_target"
   ]
  },
  {
   "cell_type": "code",
   "execution_count": 32,
   "id": "exterior-productivity",
   "metadata": {},
   "outputs": [],
   "source": [
    "# search for NaN's, and remove if present\n",
    "def find_nans(dataframe):\n",
    "    is_NaN = dataframe.isnull()\n",
    "    row_has_NaN = is_NaN.any(axis=1)\n",
    "    return row_has_NaN\n",
    "\n",
    "# remove NaN\n",
    "df = df.drop(df[find_nans(df)].index)"
   ]
  },
  {
   "cell_type": "code",
   "execution_count": 33,
   "id": "fantastic-processing",
   "metadata": {},
   "outputs": [],
   "source": [
    "# split data test/validation\n",
    "X = df.iloc[:,1:-1]\n",
    "y = df.iloc[:,-1]\n",
    "\n",
    "# scale data\n",
    "X_scaled = (X - X.min(axis=0)) / (X.max(axis=0)-X.min(axis=0))"
   ]
  },
  {
   "cell_type": "markdown",
   "id": "attractive-morris",
   "metadata": {},
   "source": [
    "### Run model A on User B"
   ]
  },
  {
   "cell_type": "code",
   "execution_count": 34,
   "id": "confused-toddler",
   "metadata": {},
   "outputs": [],
   "source": [
    "# load in model\n",
    "dir = \"models/\"\n",
    "filename = (f'{dir}negative_svm.sav')\n",
    "neg_svm = pickle.load(open(filename, 'rb'))"
   ]
  },
  {
   "cell_type": "code",
   "execution_count": 56,
   "id": "australian-documentary",
   "metadata": {},
   "outputs": [
    {
     "name": "stdout",
     "output_type": "stream",
     "text": [
      "Model Accuracy: 0.5585072738772928\n",
      "Model Precision: 1.0\n",
      "Model Recall: 0.019662921348314606\n"
     ]
    },
    {
     "data": {
      "text/plain": [
       "<sklearn.metrics._plot.roc_curve.RocCurveDisplay at 0x7f844cead700>"
      ]
     },
     "execution_count": 56,
     "metadata": {},
     "output_type": "execute_result"
    },
    {
     "data": {
      "image/png": "[encoded data removed]",
      "text/plain": [
       "<Figure size 432x288 with 1 Axes>"
      ]
     },
     "metadata": {
      "needs_background": "light"
     },
     "output_type": "display_data"
    }
   ],
   "source": [
    "# test model on unseen data\n",
    "y_pred = neg_svm.predict(X_scaled)\n",
    "\n",
    "# calculate model accuracy\n",
    "acc = accuracy_score(y, y_pred)\n",
    "\n",
    "# calculate model precision\n",
    "prec = precision_score(y, y_pred)\n",
    "\n",
    "# calculate model recall\n",
    "recall = recall_score(y, y_pred)\n",
    "\n",
    "print(\"Model Accuracy:\", acc)\n",
    "print(\"Model Precision:\", prec)\n",
    "print(\"Model Recall:\", recall)\n",
    "\n",
    "# plot ROC Curve\n",
    "plot_roc_curve(neg_svm,X_scaled,y)"
   ]
  },
  {
   "cell_type": "markdown",
   "id": "spare-universe",
   "metadata": {},
   "source": [
    "The above results indicate that our model does not perform well on User B with \"negative\" type emotions. The model is 55% accurate. Precision is 100% whilst conversely recall is 1.9% accurate. \n",
    "\n",
    "This suggests our model is not missclassifying data, but the model is not identifying positive cases well at all. In essence, the false-negative rate is very high, and the false-positive rate is very low. The model is over-sensitive but is under-specific.\n",
    "\n",
    "The ROC curve confirms this, suggesting the model is over sensitive. AUC = 0.67 which is not good."
   ]
  },
  {
   "cell_type": "markdown",
   "id": "combined-ecology",
   "metadata": {},
   "source": [
    "### Part 2: Affirmative Emotion User B"
   ]
  },
  {
   "cell_type": "code",
   "execution_count": 64,
   "id": "industrial-mailing",
   "metadata": {},
   "outputs": [],
   "source": [
    "# select emotion\n",
    "emotion2 = \"affirmative\" \n",
    "\n",
    "# read in data file for User B\n",
    "df2 = pd.read_csv(f\"grammatical_facial_expression/b_{emotion2}_datapoints.txt\",delimiter = \" \",)\n",
    "df2_target = pd.read_csv(f\"grammatical_facial_expression/b_{emotion2}_targets.txt\",delimiter = \" \",)"
   ]
  },
  {
   "cell_type": "code",
   "execution_count": 65,
   "id": "fantastic-probability",
   "metadata": {},
   "outputs": [],
   "source": [
    "# combine both dataframes using the target dataset\n",
    "df2['target'] = df2_target\n",
    "\n",
    "# remove NaN\n",
    "df2 = df2.drop(df2[find_nans(df2)].index)"
   ]
  },
  {
   "cell_type": "code",
   "execution_count": 66,
   "id": "textile-metadata",
   "metadata": {},
   "outputs": [],
   "source": [
    "# split data test/validation\n",
    "X2 = df.iloc[:,1:-1]\n",
    "y2 = df.iloc[:,-1]\n",
    "\n",
    "# scale data\n",
    "X2_scaled = (X2 - X2.min(axis=0)) / (X2.max(axis=0)-X2.min(axis=0))\n",
    "\n"
   ]
  },
  {
   "cell_type": "markdown",
   "id": "alive-generation",
   "metadata": {},
   "source": [
    "### Run model A on User B"
   ]
  },
  {
   "cell_type": "code",
   "execution_count": 67,
   "id": "forty-shoot",
   "metadata": {},
   "outputs": [],
   "source": [
    "# load in model\n",
    "dir = \"models/\"\n",
    "filename = (f'{dir}affirmative_svm.sav')\n",
    "aff_svm = pickle.load(open(filename, 'rb'))"
   ]
  },
  {
   "cell_type": "code",
   "execution_count": 68,
   "id": "desirable-lawrence",
   "metadata": {},
   "outputs": [
    {
     "name": "stdout",
     "output_type": "stream",
     "text": [
      "Model Accuracy: 0.5483870967741935\n",
      "Model Precision: 0.4979253112033195\n",
      "Model Recall: 0.33707865168539325\n"
     ]
    },
    {
     "data": {
      "text/plain": [
       "<sklearn.metrics._plot.roc_curve.RocCurveDisplay at 0x7f844d154c40>"
      ]
     },
     "execution_count": 68,
     "metadata": {},
     "output_type": "execute_result"
    },
    {
     "data": {
      "image/png": "[encoded data removed]",
      "text/plain": [
       "<Figure size 432x288 with 1 Axes>"
      ]
     },
     "metadata": {
      "needs_background": "light"
     },
     "output_type": "display_data"
    }
   ],
   "source": [
    "# test model on unseen data\n",
    "y_pred = aff_svm.predict(X2_scaled)\n",
    "\n",
    "# calculate model accuracy\n",
    "acc = accuracy_score(y2, y_pred)\n",
    "\n",
    "# calculate model precision\n",
    "prec = precision_score(y2, y_pred)\n",
    "\n",
    "# calculate model recall\n",
    "recall = recall_score(y2, y_pred)\n",
    "\n",
    "print(\"Model Accuracy:\", acc)\n",
    "print(\"Model Precision:\", prec)\n",
    "print(\"Model Recall:\", recall)\n",
    "\n",
    "# plot ROC Curve\n",
    "plot_roc_curve(aff_svm,X_scaled,y)"
   ]
  },
  {
   "cell_type": "markdown",
   "id": "amended-cooling",
   "metadata": {},
   "source": [
    "The above statistics exhibit another poor performing model with an accuracy of 54.8%, precision of 49.8%, and recall of 33.7%. \n",
    "\n",
    "This indicates that the is both under-specific and under-sensitive, which is evident in the ROC curve."
   ]
  },
  {
   "cell_type": "markdown",
   "id": "ecological-bailey",
   "metadata": {},
   "source": [
    "##### Overall, the models did not perform well on the User B data. Both ROC plots are similair to \"random prediction\" diagonal lines. \n",
    "##### This is most likely because User B is a female participant and User A is a male participant. There are not only varying facial structures between the two individuals based on gender, but also this would suggest that males and females have different emotional expressions with both \"affirmative\" and \"negative\" emotions.  "
   ]
  },
  {
   "cell_type": "code",
   "execution_count": null,
   "id": "incredible-journalist",
   "metadata": {},
   "outputs": [],
   "source": []
  }
 ],
 "metadata": {
  "kernelspec": {
   "display_name": "Python 3",
   "language": "python",
   "name": "python3"
  },
  "language_info": {
   "codemirror_mode": {
    "name": "ipython",
    "version": 3
   },
   "file_extension": ".py",
   "mimetype": "text/x-python",
   "name": "python",
   "nbconvert_exporter": "python",
   "pygments_lexer": "ipython3",
   "version": "3.8.6"
  }
 },
 "nbformat": 4,
 "nbformat_minor": 5
}
