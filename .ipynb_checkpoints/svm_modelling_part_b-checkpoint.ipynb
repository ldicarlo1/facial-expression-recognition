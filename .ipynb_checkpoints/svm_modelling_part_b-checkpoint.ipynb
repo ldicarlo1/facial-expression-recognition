{
 "cells": [
  {
   "cell_type": "markdown",
   "id": "southwest-static",
   "metadata": {},
   "source": [
    "# GFE Classification: Part B"
   ]
  },
  {
   "cell_type": "markdown",
   "id": "leading-disability",
   "metadata": {},
   "source": [
    "###### Employ this trained classifier on the expressions performed by User B, and determine the accuracy. \n",
    "###### (i) Test on a single facial expression\n",
    "###### (ii) Test on a different facial expression\n",
    "###### (iii) Use of performance measures"
   ]
  },
  {
   "cell_type": "markdown",
   "id": "chicken-fishing",
   "metadata": {},
   "source": [
    "### Part 1: Negative Emotion User B"
   ]
  },
  {
   "cell_type": "code",
   "execution_count": 2,
   "id": "southwest-extension",
   "metadata": {},
   "outputs": [],
   "source": [
    "import pandas as pd\n",
    "import numpy as np\n",
    "from sklearn import preprocessing\n",
    "from sklearn.metrics import accuracy_score, precision_score,plot_roc_curve, recall_score\n",
    "import plotly.express as px\n",
    "import plotly.graph_objects as go\n",
    "import pickle"
   ]
  },
  {
   "cell_type": "code",
   "execution_count": 5,
   "id": "simplified-poster",
   "metadata": {},
   "outputs": [],
   "source": [
    "# select emotion\n",
    "emotion = \"negative\" \n",
    "\n",
    "# read in data file for User B\n",
    "df_neg = pd.read_csv(f\"grammatical_facial_expression/b_{emotion}_datapoints.txt\",delimiter = \" \",)\n",
    "df_neg_target = pd.read_csv(f\"grammatical_facial_expression/b_{emotion}_targets.txt\",delimiter = \" \",header=None)"
   ]
  },
  {
   "cell_type": "code",
   "execution_count": 6,
   "id": "reduced-reform",
   "metadata": {},
   "outputs": [],
   "source": [
    "# combine both dataframes using the target dataset\n",
    "df_neg['target'] = df_neg_target"
   ]
  },
  {
   "cell_type": "code",
   "execution_count": 8,
   "id": "fantastic-processing",
   "metadata": {},
   "outputs": [],
   "source": [
    "# split data test/validation\n",
    "X_neg = df_neg.iloc[:,1:-1]\n",
    "y_neg = df_neg.iloc[:,-1]\n",
    "\n",
    "# scale data\n",
    "X_neg_scaled = (X_neg - X_neg.min(axis=0)) / (X_neg.max(axis=0)-X_neg.min(axis=0))"
   ]
  },
  {
   "cell_type": "markdown",
   "id": "attractive-morris",
   "metadata": {},
   "source": [
    "### Run model A on User B"
   ]
  },
  {
   "cell_type": "code",
   "execution_count": 9,
   "id": "confused-toddler",
   "metadata": {},
   "outputs": [],
   "source": [
    "# load in model\n",
    "dir = \"models/\"\n",
    "filename = (f'{dir}a_negative_svm.sav')\n",
    "a_neg_svm = pickle.load(open(filename, 'rb'))"
   ]
  },
  {
   "cell_type": "code",
   "execution_count": 10,
   "id": "australian-documentary",
   "metadata": {},
   "outputs": [
    {
     "name": "stdout",
     "output_type": "stream",
     "text": [
      "Model Accuracy: 0.5585072738772928\n",
      "Model Precision: 1.0\n",
      "Model Recall: 0.019662921348314606\n"
     ]
    },
    {
     "data": {
      "text/plain": [
       "<sklearn.metrics._plot.roc_curve.RocCurveDisplay at 0x7ff494374610>"
      ]
     },
     "execution_count": 10,
     "metadata": {},
     "output_type": "execute_result"
    },
    {
     "data": {
      "image/png": "[encoded data removed]",
      "text/plain": [
       "<Figure size 432x288 with 1 Axes>"
      ]
     },
     "metadata": {
      "needs_background": "light"
     },
     "output_type": "display_data"
    }
   ],
   "source": [
    "# test model on unseen data\n",
    "y_neg_pred = a_neg_svm.predict(X_neg_scaled)\n",
    "\n",
    "# calculate model accuracy\n",
    "acc = accuracy_score(y_neg, y_neg_pred)\n",
    "\n",
    "# calculate model precision\n",
    "prec = precision_score(y_neg, y_neg_pred)\n",
    "\n",
    "# calculate model recall\n",
    "recall = recall_score(y_neg, y_neg_pred)\n",
    "\n",
    "print(\"Model Accuracy:\", acc)\n",
    "print(\"Model Precision:\", prec)\n",
    "print(\"Model Recall:\", recall)\n",
    "\n",
    "# plot ROC Curve\n",
    "plot_roc_curve(a_neg_svm,X_neg_scaled,y_neg)"
   ]
  },
  {
   "cell_type": "markdown",
   "id": "spare-universe",
   "metadata": {},
   "source": [
    "The above results indicate that our model does not perform well on User B with \"negative\" type emotions. The model is 55% accurate. Precision is 100% whilst conversely recall is 1.9% accurate. \n",
    "\n",
    "This suggests our model is not missclassifying data, but the model is not identifying positive cases well at all. In essence, the false-negative rate is very high, and the false-positive rate is very low. The model is over-sensitive but is under-specific.\n",
    "\n",
    "The ROC curve confirms this, suggesting the model is over sensitive. AUC = 0.67 which is not good."
   ]
  },
  {
   "cell_type": "markdown",
   "id": "combined-ecology",
   "metadata": {},
   "source": [
    "### Part 2: Affirmative Emotion User B"
   ]
  },
  {
   "cell_type": "code",
   "execution_count": 11,
   "id": "industrial-mailing",
   "metadata": {},
   "outputs": [],
   "source": [
    "# select emotion\n",
    "emotion2 = \"affirmative\" \n",
    "\n",
    "# read in data file for User B\n",
    "df_aff = pd.read_csv(f\"grammatical_facial_expression/b_{emotion2}_datapoints.txt\",delimiter = \" \",)\n",
    "df_aff_target = pd.read_csv(f\"grammatical_facial_expression/b_{emotion2}_targets.txt\",delimiter = \" \",header=None)"
   ]
  },
  {
   "cell_type": "code",
   "execution_count": 12,
   "id": "fantastic-probability",
   "metadata": {},
   "outputs": [],
   "source": [
    "# combine both dataframes using the target dataset\n",
    "df_aff['target'] = df_aff_target"
   ]
  },
  {
   "cell_type": "code",
   "execution_count": 15,
   "id": "textile-metadata",
   "metadata": {},
   "outputs": [
    {
     "data": {
      "text/html": [
       "<div>\n",
       "<style scoped>\n",
       "    .dataframe tbody tr th:only-of-type {\n",
       "        vertical-align: middle;\n",
       "    }\n",
       "\n",
       "    .dataframe tbody tr th {\n",
       "        vertical-align: top;\n",
       "    }\n",
       "\n",
       "    .dataframe thead th {\n",
       "        text-align: right;\n",
       "    }\n",
       "</style>\n",
       "<table border=\"1\" class=\"dataframe\">\n",
       "  <thead>\n",
       "    <tr style=\"text-align: right;\">\n",
       "      <th></th>\n",
       "      <th>0</th>\n",
       "      <th>1</th>\n",
       "      <th>2</th>\n",
       "      <th>3</th>\n",
       "      <th>4</th>\n",
       "      <th>5</th>\n",
       "      <th>6</th>\n",
       "      <th>7</th>\n",
       "      <th>8</th>\n",
       "      <th>9</th>\n",
       "      <th>...</th>\n",
       "      <th>290</th>\n",
       "      <th>291</th>\n",
       "      <th>292</th>\n",
       "      <th>293</th>\n",
       "      <th>294</th>\n",
       "      <th>295</th>\n",
       "      <th>296</th>\n",
       "      <th>297</th>\n",
       "      <th>298</th>\n",
       "      <th>299</th>\n",
       "    </tr>\n",
       "  </thead>\n",
       "  <tbody>\n",
       "    <tr>\n",
       "      <th>0</th>\n",
       "      <td>0.870135</td>\n",
       "      <td>0.637736</td>\n",
       "      <td>0.967188</td>\n",
       "      <td>0.876706</td>\n",
       "      <td>0.679206</td>\n",
       "      <td>0.967543</td>\n",
       "      <td>0.884085</td>\n",
       "      <td>0.701624</td>\n",
       "      <td>0.970634</td>\n",
       "      <td>0.888477</td>\n",
       "      <td>...</td>\n",
       "      <td>0.333333</td>\n",
       "      <td>0.779320</td>\n",
       "      <td>0.849516</td>\n",
       "      <td>0.973926</td>\n",
       "      <td>0.748693</td>\n",
       "      <td>0.830099</td>\n",
       "      <td>0.403509</td>\n",
       "      <td>0.754518</td>\n",
       "      <td>0.736810</td>\n",
       "      <td>0.413793</td>\n",
       "    </tr>\n",
       "    <tr>\n",
       "      <th>1</th>\n",
       "      <td>0.921940</td>\n",
       "      <td>0.748181</td>\n",
       "      <td>0.960156</td>\n",
       "      <td>0.926419</td>\n",
       "      <td>0.787719</td>\n",
       "      <td>0.956723</td>\n",
       "      <td>0.932230</td>\n",
       "      <td>0.805958</td>\n",
       "      <td>0.963679</td>\n",
       "      <td>0.933872</td>\n",
       "      <td>...</td>\n",
       "      <td>0.196970</td>\n",
       "      <td>0.829631</td>\n",
       "      <td>0.950445</td>\n",
       "      <td>0.967025</td>\n",
       "      <td>0.800504</td>\n",
       "      <td>0.927056</td>\n",
       "      <td>0.315789</td>\n",
       "      <td>0.811913</td>\n",
       "      <td>0.823957</td>\n",
       "      <td>0.327586</td>\n",
       "    </tr>\n",
       "    <tr>\n",
       "      <th>2</th>\n",
       "      <td>0.985817</td>\n",
       "      <td>0.808288</td>\n",
       "      <td>0.957031</td>\n",
       "      <td>0.988923</td>\n",
       "      <td>0.844788</td>\n",
       "      <td>0.953632</td>\n",
       "      <td>0.994555</td>\n",
       "      <td>0.859836</td>\n",
       "      <td>0.960587</td>\n",
       "      <td>0.996126</td>\n",
       "      <td>...</td>\n",
       "      <td>0.196970</td>\n",
       "      <td>0.883820</td>\n",
       "      <td>0.993960</td>\n",
       "      <td>0.963190</td>\n",
       "      <td>0.853361</td>\n",
       "      <td>0.969287</td>\n",
       "      <td>0.228070</td>\n",
       "      <td>0.866898</td>\n",
       "      <td>0.862921</td>\n",
       "      <td>0.241379</td>\n",
       "    </tr>\n",
       "    <tr>\n",
       "      <th>3</th>\n",
       "      <td>0.997347</td>\n",
       "      <td>0.814286</td>\n",
       "      <td>0.953906</td>\n",
       "      <td>0.997217</td>\n",
       "      <td>0.837536</td>\n",
       "      <td>0.956723</td>\n",
       "      <td>0.997035</td>\n",
       "      <td>0.847558</td>\n",
       "      <td>0.956723</td>\n",
       "      <td>0.996890</td>\n",
       "      <td>...</td>\n",
       "      <td>0.196970</td>\n",
       "      <td>0.912446</td>\n",
       "      <td>1.000000</td>\n",
       "      <td>0.963190</td>\n",
       "      <td>0.889581</td>\n",
       "      <td>0.985132</td>\n",
       "      <td>0.228070</td>\n",
       "      <td>0.905980</td>\n",
       "      <td>0.886339</td>\n",
       "      <td>0.327586</td>\n",
       "    </tr>\n",
       "    <tr>\n",
       "      <th>4</th>\n",
       "      <td>1.000000</td>\n",
       "      <td>0.810445</td>\n",
       "      <td>0.957031</td>\n",
       "      <td>1.000000</td>\n",
       "      <td>0.833672</td>\n",
       "      <td>0.953632</td>\n",
       "      <td>1.000000</td>\n",
       "      <td>0.843599</td>\n",
       "      <td>0.956723</td>\n",
       "      <td>1.000000</td>\n",
       "      <td>...</td>\n",
       "      <td>0.196970</td>\n",
       "      <td>0.914409</td>\n",
       "      <td>0.998117</td>\n",
       "      <td>0.963190</td>\n",
       "      <td>0.891339</td>\n",
       "      <td>0.983247</td>\n",
       "      <td>0.070175</td>\n",
       "      <td>0.907619</td>\n",
       "      <td>0.884724</td>\n",
       "      <td>0.327586</td>\n",
       "    </tr>\n",
       "    <tr>\n",
       "      <th>...</th>\n",
       "      <td>...</td>\n",
       "      <td>...</td>\n",
       "      <td>...</td>\n",
       "      <td>...</td>\n",
       "      <td>...</td>\n",
       "      <td>...</td>\n",
       "      <td>...</td>\n",
       "      <td>...</td>\n",
       "      <td>...</td>\n",
       "      <td>...</td>\n",
       "      <td>...</td>\n",
       "      <td>...</td>\n",
       "      <td>...</td>\n",
       "      <td>...</td>\n",
       "      <td>...</td>\n",
       "      <td>...</td>\n",
       "      <td>...</td>\n",
       "      <td>...</td>\n",
       "      <td>...</td>\n",
       "      <td>...</td>\n",
       "      <td>...</td>\n",
       "    </tr>\n",
       "    <tr>\n",
       "      <th>1068</th>\n",
       "      <td>0.578087</td>\n",
       "      <td>0.201887</td>\n",
       "      <td>0.985156</td>\n",
       "      <td>0.584845</td>\n",
       "      <td>0.221499</td>\n",
       "      <td>0.000000</td>\n",
       "      <td>0.596614</td>\n",
       "      <td>0.240137</td>\n",
       "      <td>0.985317</td>\n",
       "      <td>0.607868</td>\n",
       "      <td>...</td>\n",
       "      <td>0.696970</td>\n",
       "      <td>0.533078</td>\n",
       "      <td>0.215172</td>\n",
       "      <td>0.992331</td>\n",
       "      <td>0.522388</td>\n",
       "      <td>0.230630</td>\n",
       "      <td>0.824561</td>\n",
       "      <td>0.515397</td>\n",
       "      <td>0.222948</td>\n",
       "      <td>0.741379</td>\n",
       "    </tr>\n",
       "    <tr>\n",
       "      <th>1069</th>\n",
       "      <td>0.581606</td>\n",
       "      <td>0.197844</td>\n",
       "      <td>0.985156</td>\n",
       "      <td>0.587467</td>\n",
       "      <td>0.216145</td>\n",
       "      <td>0.974498</td>\n",
       "      <td>0.598663</td>\n",
       "      <td>0.234098</td>\n",
       "      <td>0.989181</td>\n",
       "      <td>0.609450</td>\n",
       "      <td>...</td>\n",
       "      <td>0.696970</td>\n",
       "      <td>0.540115</td>\n",
       "      <td>0.213613</td>\n",
       "      <td>0.992331</td>\n",
       "      <td>0.530231</td>\n",
       "      <td>0.235237</td>\n",
       "      <td>0.736842</td>\n",
       "      <td>0.522529</td>\n",
       "      <td>0.231965</td>\n",
       "      <td>0.741379</td>\n",
       "    </tr>\n",
       "    <tr>\n",
       "      <th>1070</th>\n",
       "      <td>0.582472</td>\n",
       "      <td>0.197102</td>\n",
       "      <td>0.985156</td>\n",
       "      <td>0.588323</td>\n",
       "      <td>0.215331</td>\n",
       "      <td>0.970634</td>\n",
       "      <td>0.599579</td>\n",
       "      <td>0.233293</td>\n",
       "      <td>0.985317</td>\n",
       "      <td>0.610378</td>\n",
       "      <td>...</td>\n",
       "      <td>0.696970</td>\n",
       "      <td>0.540929</td>\n",
       "      <td>0.213483</td>\n",
       "      <td>0.992331</td>\n",
       "      <td>0.530992</td>\n",
       "      <td>0.235167</td>\n",
       "      <td>0.736842</td>\n",
       "      <td>0.523252</td>\n",
       "      <td>0.232032</td>\n",
       "      <td>0.741379</td>\n",
       "    </tr>\n",
       "    <tr>\n",
       "      <th>1071</th>\n",
       "      <td>0.591350</td>\n",
       "      <td>0.186523</td>\n",
       "      <td>0.981250</td>\n",
       "      <td>0.597314</td>\n",
       "      <td>0.201640</td>\n",
       "      <td>0.000000</td>\n",
       "      <td>0.608583</td>\n",
       "      <td>0.217458</td>\n",
       "      <td>0.985317</td>\n",
       "      <td>0.621181</td>\n",
       "      <td>...</td>\n",
       "      <td>0.696970</td>\n",
       "      <td>0.554332</td>\n",
       "      <td>0.210106</td>\n",
       "      <td>0.992331</td>\n",
       "      <td>0.543825</td>\n",
       "      <td>0.237819</td>\n",
       "      <td>0.736842</td>\n",
       "      <td>0.534528</td>\n",
       "      <td>0.237349</td>\n",
       "      <td>0.741379</td>\n",
       "    </tr>\n",
       "    <tr>\n",
       "      <th>1072</th>\n",
       "      <td>0.596655</td>\n",
       "      <td>0.185108</td>\n",
       "      <td>0.985156</td>\n",
       "      <td>0.601969</td>\n",
       "      <td>0.198590</td>\n",
       "      <td>0.977589</td>\n",
       "      <td>0.612519</td>\n",
       "      <td>0.214037</td>\n",
       "      <td>0.989181</td>\n",
       "      <td>0.625109</td>\n",
       "      <td>...</td>\n",
       "      <td>0.696970</td>\n",
       "      <td>0.560507</td>\n",
       "      <td>0.206209</td>\n",
       "      <td>0.992331</td>\n",
       "      <td>0.551098</td>\n",
       "      <td>0.231048</td>\n",
       "      <td>0.736842</td>\n",
       "      <td>0.543106</td>\n",
       "      <td>0.230148</td>\n",
       "      <td>0.741379</td>\n",
       "    </tr>\n",
       "  </tbody>\n",
       "</table>\n",
       "<p>1073 rows × 300 columns</p>\n",
       "</div>"
      ],
      "text/plain": [
       "           0         1         2         3         4         5         6    \\\n",
       "0     0.870135  0.637736  0.967188  0.876706  0.679206  0.967543  0.884085   \n",
       "1     0.921940  0.748181  0.960156  0.926419  0.787719  0.956723  0.932230   \n",
       "2     0.985817  0.808288  0.957031  0.988923  0.844788  0.953632  0.994555   \n",
       "3     0.997347  0.814286  0.953906  0.997217  0.837536  0.956723  0.997035   \n",
       "4     1.000000  0.810445  0.957031  1.000000  0.833672  0.953632  1.000000   \n",
       "...        ...       ...       ...       ...       ...       ...       ...   \n",
       "1068  0.578087  0.201887  0.985156  0.584845  0.221499  0.000000  0.596614   \n",
       "1069  0.581606  0.197844  0.985156  0.587467  0.216145  0.974498  0.598663   \n",
       "1070  0.582472  0.197102  0.985156  0.588323  0.215331  0.970634  0.599579   \n",
       "1071  0.591350  0.186523  0.981250  0.597314  0.201640  0.000000  0.608583   \n",
       "1072  0.596655  0.185108  0.985156  0.601969  0.198590  0.977589  0.612519   \n",
       "\n",
       "           7         8         9    ...       290       291       292  \\\n",
       "0     0.701624  0.970634  0.888477  ...  0.333333  0.779320  0.849516   \n",
       "1     0.805958  0.963679  0.933872  ...  0.196970  0.829631  0.950445   \n",
       "2     0.859836  0.960587  0.996126  ...  0.196970  0.883820  0.993960   \n",
       "3     0.847558  0.956723  0.996890  ...  0.196970  0.912446  1.000000   \n",
       "4     0.843599  0.956723  1.000000  ...  0.196970  0.914409  0.998117   \n",
       "...        ...       ...       ...  ...       ...       ...       ...   \n",
       "1068  0.240137  0.985317  0.607868  ...  0.696970  0.533078  0.215172   \n",
       "1069  0.234098  0.989181  0.609450  ...  0.696970  0.540115  0.213613   \n",
       "1070  0.233293  0.985317  0.610378  ...  0.696970  0.540929  0.213483   \n",
       "1071  0.217458  0.985317  0.621181  ...  0.696970  0.554332  0.210106   \n",
       "1072  0.214037  0.989181  0.625109  ...  0.696970  0.560507  0.206209   \n",
       "\n",
       "           293       294       295       296       297       298       299  \n",
       "0     0.973926  0.748693  0.830099  0.403509  0.754518  0.736810  0.413793  \n",
       "1     0.967025  0.800504  0.927056  0.315789  0.811913  0.823957  0.327586  \n",
       "2     0.963190  0.853361  0.969287  0.228070  0.866898  0.862921  0.241379  \n",
       "3     0.963190  0.889581  0.985132  0.228070  0.905980  0.886339  0.327586  \n",
       "4     0.963190  0.891339  0.983247  0.070175  0.907619  0.884724  0.327586  \n",
       "...        ...       ...       ...       ...       ...       ...       ...  \n",
       "1068  0.992331  0.522388  0.230630  0.824561  0.515397  0.222948  0.741379  \n",
       "1069  0.992331  0.530231  0.235237  0.736842  0.522529  0.231965  0.741379  \n",
       "1070  0.992331  0.530992  0.235167  0.736842  0.523252  0.232032  0.741379  \n",
       "1071  0.992331  0.543825  0.237819  0.736842  0.534528  0.237349  0.741379  \n",
       "1072  0.992331  0.551098  0.231048  0.736842  0.543106  0.230148  0.741379  \n",
       "\n",
       "[1073 rows x 300 columns]"
      ]
     },
     "execution_count": 15,
     "metadata": {},
     "output_type": "execute_result"
    }
   ],
   "source": [
    "# split data test/validation\n",
    "X_aff = df_aff.iloc[:,1:-1]\n",
    "y_aff = df_aff.iloc[:,-1]\n",
    "\n",
    "# scale data\n",
    "scaler = preprocessing.MinMaxScaler()\n",
    "X_aff_scaled = pd.DataFrame(scaler.fit_transform(X_aff))\n",
    "#X2_scaled = (X2 - X2.min(axis=0)) / (X2.max(axis=0)-X2.min(axis=0))\n",
    "\n",
    "X_aff_scaled"
   ]
  },
  {
   "cell_type": "markdown",
   "id": "alive-generation",
   "metadata": {},
   "source": [
    "### Run model A on User B"
   ]
  },
  {
   "cell_type": "code",
   "execution_count": 16,
   "id": "forty-shoot",
   "metadata": {},
   "outputs": [],
   "source": [
    "# load in model\n",
    "dir = \"models/\"\n",
    "filename = (f'{dir}a_affirmative_svm.sav')\n",
    "a_aff_svm = pickle.load(open(filename, 'rb'))"
   ]
  },
  {
   "cell_type": "code",
   "execution_count": 19,
   "id": "desirable-lawrence",
   "metadata": {},
   "outputs": [
    {
     "name": "stdout",
     "output_type": "stream",
     "text": [
      "Model Accuracy: 0.5219012115563839\n",
      "Model Precision: 0.8947368421052632\n",
      "Model Recall: 0.032196969696969696\n"
     ]
    },
    {
     "data": {
      "text/plain": [
       "<sklearn.metrics._plot.roc_curve.RocCurveDisplay at 0x7ff492f30cd0>"
      ]
     },
     "execution_count": 19,
     "metadata": {},
     "output_type": "execute_result"
    },
    {
     "data": {
      "image/png": "[encoded data removed]",
      "text/plain": [
       "<Figure size 432x288 with 1 Axes>"
      ]
     },
     "metadata": {
      "needs_background": "light"
     },
     "output_type": "display_data"
    }
   ],
   "source": [
    "# test model on unseen data\n",
    "y_aff_pred = a_aff_svm.predict(X_aff_scaled)\n",
    "\n",
    "# calculate model accuracy\n",
    "acc = accuracy_score(y_aff, y_aff_pred)\n",
    "\n",
    "# calculate model precision\n",
    "prec = precision_score(y_aff, y_aff_pred)\n",
    "\n",
    "# calculate model recall\n",
    "recall = recall_score(y_aff, y_aff_pred)\n",
    "\n",
    "print(\"Model Accuracy:\", acc)\n",
    "print(\"Model Precision:\", prec)\n",
    "print(\"Model Recall:\", recall)\n",
    "\n",
    "# plot ROC Curve\n",
    "plot_roc_curve(a_aff_svm,X_aff_scaled,y_aff)"
   ]
  },
  {
   "cell_type": "markdown",
   "id": "amended-cooling",
   "metadata": {},
   "source": [
    "The above statistics exhibit another poor performing model with an accuracy of 52.1%, precision of 89.4%, and recall of 3.2%. \n",
    "\n",
    "This indicates that the is both under-specific and under-sensitive, which is evident in the ROC curve."
   ]
  },
  {
   "cell_type": "markdown",
   "id": "ecological-bailey",
   "metadata": {},
   "source": [
    "##### Overall, the models did not perform well on the User B data. Both ROC plots are similair to \"random prediction\" diagonal lines. \n",
    "##### This is most likely because User B is a female participant and User A is a male participant. There are not only varying facial structures between the two individuals based on gender, but also this would suggest that males and females have different emotional expressions with both \"affirmative\" and \"negative\" emotions.  "
   ]
  },
  {
   "cell_type": "code",
   "execution_count": null,
   "id": "incredible-journalist",
   "metadata": {},
   "outputs": [],
   "source": []
  },
  {
   "cell_type": "code",
   "execution_count": null,
   "id": "secret-coordination",
   "metadata": {},
   "outputs": [],
   "source": []
  }
 ],
 "metadata": {
  "kernelspec": {
   "display_name": "Python 3",
   "language": "python",
   "name": "python3"
  },
  "language_info": {
   "codemirror_mode": {
    "name": "ipython",
    "version": 3
   },
   "file_extension": ".py",
   "mimetype": "text/x-python",
   "name": "python",
   "nbconvert_exporter": "python",
   "pygments_lexer": "ipython3",
   "version": "3.8.6"
  }
 },
 "nbformat": 4,
 "nbformat_minor": 5
}
